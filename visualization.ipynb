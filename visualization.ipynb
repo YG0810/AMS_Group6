{
 "cells": [
  {
   "cell_type": "markdown",
   "metadata": {},
   "source": [
    "# Matrix configuration of interest\n",
    "\n",
    "Change these parameter values to whatever matrix you're interested in"
   ]
  },
  {
   "cell_type": "code",
   "execution_count": null,
   "metadata": {},
   "outputs": [],
   "source": [
    "candidates = 5\n",
    "voters = 5"
   ]
  },
  {
   "cell_type": "markdown",
   "metadata": {},
   "source": [
    "# Load in data"
   ]
  },
  {
   "cell_type": "code",
   "execution_count": null,
   "metadata": {},
   "outputs": [],
   "source": [
    "# Load data\n",
    "import pickle\n",
    "\n",
    "import pandas as pd\n",
    "df : pd.DataFrame\n",
    "\n",
    "with open(\"testOutput.pkl\", \"rb\") as file:\n",
    "    df = pickle.load(file)"
   ]
  },
  {
   "cell_type": "code",
   "execution_count": null,
   "metadata": {},
   "outputs": [],
   "source": [
    "df.head()"
   ]
  },
  {
   "cell_type": "code",
   "execution_count": null,
   "metadata": {},
   "outputs": [],
   "source": [
    "# Change happiness_measure value 'Bubble sort distance / Kendall Tau Distance' to 'Bubble sort'\n",
    "df[\"happiness_measure\"] = df[\"happiness_measure\"].replace(\"Bubble sort distance / Kendall Tau Distance\", \"Bubble sort\")\n",
    "\n",
    "# TODO: Probably change get hapiness to binary later ...\n"
   ]
  },
  {
   "cell_type": "markdown",
   "metadata": {},
   "source": [
    "# Preload df"
   ]
  },
  {
   "cell_type": "code",
   "execution_count": null,
   "metadata": {},
   "outputs": [],
   "source": [
    "# Drop rows on column input, with shapes that are not (candidates, voters)\n",
    "df = df[df.input.apply(lambda x: x.shape == (candidates, voters))]"
   ]
  },
  {
   "cell_type": "markdown",
   "metadata": {},
   "source": [
    "# Hapiness"
   ]
  },
  {
   "cell_type": "code",
   "execution_count": null,
   "metadata": {},
   "outputs": [],
   "source": [
    "# Drop columns\n",
    "df_hapiness = df.drop(columns=[\"risk_measure\", \"risk_values\"])\n",
    "\n",
    "# Convert the happiness values list to an average value\n",
    "df_hapiness[\"happiness_values_avg\"] = df_hapiness[\"happiness_values\"].apply(lambda x: sum(x) / len(x))\n",
    "\n",
    "# Drop duplicates based on the matrix column\n",
    "df_hapiness[\"input_str\"] = df_hapiness[\"input\"].apply(lambda x: str(x))\n",
    "df_hapiness = df_hapiness.drop_duplicates(subset=[\"input_str\", \"voting_scheme\", \"happiness_measure\"])\n",
    "df_hapiness = df_hapiness.drop(columns=[\"input_str\"])"
   ]
  },
  {
   "cell_type": "code",
   "execution_count": null,
   "metadata": {},
   "outputs": [],
   "source": [
    "df_hapiness.head()"
   ]
  },
  {
   "cell_type": "markdown",
   "metadata": {},
   "source": [
    "<h3> Boxplot </h3>\n",
    "Schema's avg values"
   ]
  },
  {
   "cell_type": "code",
   "execution_count": null,
   "metadata": {},
   "outputs": [],
   "source": [
    "import matplotlib.pyplot as plt\n",
    "import seaborn as sns\n",
    "\n",
    "#set seaborn plotting aesthetics\n",
    "sns.set(style='white')\n",
    "\n",
    "#create grouped bar chart\n",
    "sns.barplot(x='happiness_measure', y='happiness_values_avg', hue='voting_scheme', data=df_hapiness) "
   ]
  },
  {
   "cell_type": "markdown",
   "metadata": {},
   "source": [
    "<h3> Boxplot </h3>\n",
    "Voter specific values"
   ]
  },
  {
   "cell_type": "code",
   "execution_count": null,
   "metadata": {},
   "outputs": [],
   "source": [
    "# Explode df on hapiness values\n",
    "df_hapiness = df_hapiness.explode(\"happiness_values\")"
   ]
  },
  {
   "cell_type": "code",
   "execution_count": null,
   "metadata": {},
   "outputs": [],
   "source": [
    "# create 3rd grouped boxplot \n",
    "sns.boxplot(x = df_hapiness['happiness_measure'], \n",
    "\t\t\ty = df_hapiness['happiness_values'], \n",
    "\t\t\thue = df_hapiness['voting_scheme'], \n",
    "\t\t\tpalette = 'husl')"
   ]
  },
  {
   "cell_type": "markdown",
   "metadata": {},
   "source": [
    "# Risk"
   ]
  },
  {
   "cell_type": "code",
   "execution_count": null,
   "metadata": {},
   "outputs": [],
   "source": [
    "# TODO"
   ]
  }
 ],
 "metadata": {
  "kernelspec": {
   "display_name": "Python 3",
   "language": "python",
   "name": "python3"
  },
  "language_info": {
   "codemirror_mode": {
    "name": "ipython",
    "version": 3
   },
   "file_extension": ".py",
   "mimetype": "text/x-python",
   "name": "python",
   "nbconvert_exporter": "python",
   "pygments_lexer": "ipython3",
   "version": "3.10.12"
  }
 },
 "nbformat": 4,
 "nbformat_minor": 2
}
