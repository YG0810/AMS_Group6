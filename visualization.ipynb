{
 "cells": [
  {
   "cell_type": "markdown",
   "metadata": {},
   "source": [
    "# Matrix configuration of interest\n",
    "\n",
    "Change these parameter values to whatever matrix you're interested in"
   ]
  },
  {
   "cell_type": "code",
   "execution_count": 207,
   "metadata": {},
   "outputs": [],
   "source": [
    "testList = [\n",
    "    (3,5),\n",
    "    (3,10),\n",
    "    (3,20),\n",
    "    (5,5),\n",
    "    (5,10),\n",
    "    (5,20),\n",
    "    (10,5),\n",
    "    (10,10),\n",
    "    (10,20),\n",
    "]\n",
    "\n",
    "tstIdx =0\n",
    "\n",
    "candidates = testList[tstIdx][0]\n",
    "voters = testList[tstIdx][1]\n",
    "tvaType = \"ATVA2\""
   ]
  },
  {
   "cell_type": "markdown",
   "metadata": {},
   "source": [
    "# Load in data"
   ]
  },
  {
   "cell_type": "code",
   "execution_count": null,
   "metadata": {},
   "outputs": [],
   "source": [
    "# Load data\n",
    "import pickle\n",
    "\n",
    "import pandas as pd\n",
    "df : pd.DataFrame\n",
    "\n",
    "with open(f\"tt/testOutput{tvaType}.pkl\", \"rb\") as file:\n",
    "    df = pickle.load(file)"
   ]
  },
  {
   "cell_type": "code",
   "execution_count": null,
   "metadata": {},
   "outputs": [],
   "source": [
    "df"
   ]
  },
  {
   "cell_type": "code",
   "execution_count": null,
   "metadata": {},
   "outputs": [],
   "source": [
    "df[\"happiness_measure\"] = df[\"happiness_measure\"].replace(\"Bubble sort distance / Kendall Tau Distance\", \"Bubble sort\")\n",
    "df[\"happiness_measure\"] = df[\"happiness_measure\"].replace(\"Get Happiness\", \"Top-1 binary\")\n",
    "df[\"risk_measure\"] = df[\"risk_measure\"].replace(\"Naive Probability of Strategic Voting\", \"Naive PSV\")\n",
    "df[\"risk_measure\"] = df[\"risk_measure\"].replace(\"Happiness Weighted PSV\", \"HW PSV\")"
   ]
  },
  {
   "cell_type": "markdown",
   "metadata": {},
   "source": [
    "# Preload df"
   ]
  },
  {
   "cell_type": "code",
   "execution_count": null,
   "metadata": {},
   "outputs": [],
   "source": [
    "# Drop rows on column input, with shapes that are not (candidates, voters)\n",
    "df = df[df.input.apply(lambda x: x.shape == (candidates, voters))]"
   ]
  },
  {
   "cell_type": "code",
   "execution_count": null,
   "metadata": {},
   "outputs": [],
   "source": [
    "df"
   ]
  },
  {
   "cell_type": "markdown",
   "metadata": {},
   "source": [
    "# Hapiness"
   ]
  },
  {
   "cell_type": "code",
   "execution_count": null,
   "metadata": {},
   "outputs": [],
   "source": [
    "# Drop columns\n",
    "df_happiness = df.drop(columns=[\"risk_measure\", \"risk_values\"])\n",
    "\n",
    "# Convert the happiness values list to an average value\n",
    "df_happiness[\"happiness_values_avg\"] = df_happiness[\"happiness_values\"].apply(lambda x: sum(x) / len(x))\n",
    "\n",
    "# Drop duplicates based on the matrix column\n",
    "df_happiness[\"input_str\"] = df_happiness[\"input\"].apply(lambda x: str(x))\n",
    "df_happiness = df_happiness.drop_duplicates(subset=[\"input_str\", \"voting_scheme\", \"happiness_measure\"])\n",
    "df_happiness = df_happiness.drop(columns=[\"input_str\"])"
   ]
  },
  {
   "cell_type": "code",
   "execution_count": null,
   "metadata": {},
   "outputs": [],
   "source": [
    "df_happiness.head()"
   ]
  },
  {
   "cell_type": "markdown",
   "metadata": {},
   "source": [
    "<h3> Boxplot </h3>\n",
    "Schema's avg values"
   ]
  },
  {
   "cell_type": "code",
   "execution_count": null,
   "metadata": {},
   "outputs": [],
   "source": [
    "import matplotlib.pyplot as plt\n",
    "import seaborn as sns\n",
    "\n",
    "#set seaborn plotting aesthetics\n",
    "sns.set(style='white')\n",
    "\n",
    "#create grouped bar chart\n",
    "avgHappinessPlt = sns.barplot(x='happiness_measure', y='happiness_values_avg', hue='voting_scheme', data=df_happiness)\n",
    "avgHappinessPlt.set(\n",
    "    title=f'Matrix Size {candidates}x{voters}',\n",
    "    xlabel='Measurement',\n",
    "    ylabel='Avg. happiness'\n",
    "    )\n",
    "\n",
    "avgHappinessPlt.get_figure().savefig(f\"[{tvaType}] avgHappiness ({candidates}c{voters}v).png\", transparent=True)"
   ]
  },
  {
   "cell_type": "markdown",
   "metadata": {},
   "source": [
    "<h3> Boxplot </h3>\n",
    "Voter specific values"
   ]
  },
  {
   "cell_type": "code",
   "execution_count": null,
   "metadata": {},
   "outputs": [],
   "source": [
    "# Explode df on hapiness values\n",
    "df_happiness = df_happiness.explode(\"happiness_values\")"
   ]
  },
  {
   "cell_type": "code",
   "execution_count": null,
   "metadata": {},
   "outputs": [],
   "source": [
    "# create 3rd grouped boxplot \n",
    "happinessPlot = sns.boxplot(x = df_happiness['happiness_measure'], \n",
    "\t\t\ty = df_happiness['happiness_values'], \n",
    "\t\t\thue = df_happiness['voting_scheme'], \n",
    "\t\t\tpalette = 'husl')\n",
    "happinessPlot.set(\n",
    "    title=f'Matrix Size {candidates}x{voters}',\n",
    "    xlabel='Hapiness measure',\n",
    "    ylabel='Voters Happiness'\n",
    "    )\n",
    "\n",
    "happinessPlot.get_figure().savefig(f\"[{tvaType}] Happiness ({candidates}c{voters}v).png\", transparent=True)\n"
   ]
  },
  {
   "cell_type": "markdown",
   "metadata": {},
   "source": [
    "# Risk"
   ]
  },
  {
   "cell_type": "code",
   "execution_count": null,
   "metadata": {},
   "outputs": [],
   "source": [
    "# create 3rd grouped boxplot \n",
    "riskPlot = sns.boxplot(x = df['risk_measure'], \n",
    "\t\t\ty = df['risk_values'], \n",
    "\t\t\thue = df['voting_scheme'], \n",
    "\t\t\tpalette = 'husl')\n",
    "\n",
    "riskPlot.set(\n",
    "    title=f'Matrix Size {candidates}x{voters}',\n",
    "    xlabel='Risk measure',\n",
    "    ylabel='Risk of voting manipulation'\n",
    "    )\n",
    "\n",
    "# Set y-axis limit from 0 to 1\n",
    "riskPlot.set_ylim(0, 1)\n",
    "\n",
    "riskPlot.get_figure().savefig(f\"[{tvaType}] risk ({candidates}c{voters}v).png\", transparent=True)"
   ]
  }
 ],
 "metadata": {
  "kernelspec": {
   "display_name": ".venv",
   "language": "python",
   "name": "python3"
  },
  "language_info": {
   "codemirror_mode": {
    "name": "ipython",
    "version": 3
   },
   "file_extension": ".py",
   "mimetype": "text/x-python",
   "name": "python",
   "nbconvert_exporter": "python",
   "pygments_lexer": "ipython3",
   "version": "3.12.9"
  }
 },
 "nbformat": 4,
 "nbformat_minor": 2
}
